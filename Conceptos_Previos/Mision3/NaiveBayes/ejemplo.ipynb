{
 "cells": [
  {
   "cell_type": "markdown",
   "id": "ebcbf0ab",
   "metadata": {},
   "source": [
    "# PASO 1 Definir el conjunto de datos"
   ]
  },
  {
   "cell_type": "code",
   "execution_count": 1,
   "id": "31b08f15",
   "metadata": {},
   "outputs": [],
   "source": [
    "# Datos de entrenamiento\n",
    "data = [\n",
    "    (\"Hola\", \"saludo\"),\n",
    "    (\"Buenos días\", \"saludo\"),\n",
    "    (\"Buenas tardes\", \"saludo\"),\n",
    "    (\"¿Cómo estás?\", \"saludo\"),\n",
    "    (\"Quisiera hacer una queja\", \"queja\"),\n",
    "    (\"No estoy satisfecho con el servicio\", \"queja\"),\n",
    "    (\"El producto llegó dañado\", \"queja\"),\n",
    "    (\"Necesito reclamar por un error\", \"reclamo\"),\n",
    "    (\"Quiero hacer un reclamo\", \"reclamo\"),\n",
    "    (\"Esto es inaceptable, quiero una solución\", \"reclamo\"),\n",
    "    (\"Me gustaría pedir información\", \"petición\"),\n",
    "    (\"Necesito saber más detalles sobre el producto\", \"petición\"),\n",
    "    (\"Por favor, envíenme más información\", \"petición\"),\n",
    "    (\"Adiós\", \"despedida\"),\n",
    "    (\"Hasta luego\", \"despedida\"),\n",
    "    (\"Nos vemos\", \"despedida\"),\n",
    "    (\"Chao\", \"despedida\")\n",
    "]\n",
    "\n",
    "# Frases y etiquetas\n",
    "phrases,labels=zip(*data)"
   ]
  },
  {
   "cell_type": "markdown",
   "id": "f2b1b217",
   "metadata": {},
   "source": [
    "# Paso 2 crear un diccionada de palabras y calcular frecuencias"
   ]
  },
  {
   "cell_type": "code",
   "execution_count": 2,
   "id": "26a2dc96",
   "metadata": {},
   "outputs": [
    {
     "name": "stdout",
     "output_type": "stream",
     "text": [
      "total_wordsdefaultdict(<class 'int'>, {'saludo': 7, 'queja': 14, 'reclamo': 15, 'petición': 16, 'despedida': 6}) tota_phrase 17\n"
     ]
    }
   ],
   "source": [
    "from collections import defaultdict\n",
    "# Crear un diccionario para contar palabras por categoria\n",
    "word_freq=defaultdict(lambda:defaultdict(int))\n",
    "category_freq=defaultdict(int)\n",
    "for phrase,label in data:\n",
    "    words=phrase.lower().split()\n",
    "    category_freq[label]+=1\n",
    "    for word in words:\n",
    "        word_freq[label][word]+=1\n",
    "#calcular la frecuencia totalde palabras en cada categoria\n",
    "total_words=defaultdict(int)\n",
    "for label in word_freq:\n",
    "    total_words[label]=sum(word_freq[label].values())\n",
    "# Numero total de frases\n",
    "total_phrase = len(data)\n",
    "print(f\"total_words{total_words} tota_phrase {total_phrase}\")"
   ]
  },
  {
   "cell_type": "markdown",
   "id": "31ae423a",
   "metadata": {},
   "source": [
    "# Paso 3 implementar el clasificador Naive Bayes"
   ]
  },
  {
   "cell_type": "code",
   "execution_count": 3,
   "id": "9e5e6add",
   "metadata": {},
   "outputs": [],
   "source": [
    "import math\n",
    "def classifi(phrase):\n",
    "    words= phrase.lower().split()\n",
    "    category_scores={}\n",
    "    for category in category_freq:\n",
    "        category_scores[category]=math.log(category_freq[category]/total_phrase)\n",
    "        for word in words:\n",
    "            #Conteo de las palabras en esa categoría\n",
    "            word_count=word_freq[category].get(word,0)\n",
    "            #Tamaño de vocabulario total\n",
    "            vocab_size=len(set(word for label in word_freq for word in word_freq[label]))\n",
    "            #Aplicamos suavizado de laplace: P(word|category)\n",
    "            prob=(word_count+1)/(total_words[category]+vocab_size)\n",
    "            #Sumamos el logaritmo de la probabilida\n",
    "            category_scores[category]+=math.log(prob)\n",
    "    return max(category_scores,key=category_scores.get)\n"
   ]
  },
  {
   "cell_type": "code",
   "execution_count": 4,
   "id": "913ca6c9",
   "metadata": {},
   "outputs": [
    {
     "name": "stdout",
     "output_type": "stream",
     "text": [
      "saludo\n",
      "queja\n",
      "despedida\n"
     ]
    }
   ],
   "source": [
    "print(classifi(\"Hola\"))\n",
    "print(classifi(\"El producto no funciona\"))\n",
    "print(classifi(\"Nos hablamos otro día\"))"
   ]
  },
  {
   "cell_type": "code",
   "execution_count": 9,
   "id": "7e94a8a3",
   "metadata": {},
   "outputs": [],
   "source": [
    "respuestas ={\n",
    "    \"saludo\":\"Hola, ¿en que puedo ayudarte?\",\n",
    "    \"despedida\":\"Chaolin pinguin, vaya por la sombrita\",\n",
    "    \"queja\":\"Suerte es que le digo parcero\",\n",
    "    \"reclamo\":\"Nada que hacer socio\",\n",
    "    \"petición\":\"Con gusto, no hay problema\",\n",
    "}"
   ]
  },
  {
   "cell_type": "code",
   "execution_count": 10,
   "id": "8981d122",
   "metadata": {},
   "outputs": [
    {
     "name": "stdout",
     "output_type": "stream",
     "text": [
      "chatbot: Esribe salir para terminar la conversación\n",
      "chatbot : (petición)Con gusto, no hay problema\n",
      "chatbot : (despedida)Chaolin pinguin, vaya por la sombrita\n",
      "chatbot : (queja)Suerte es que le digo parcero\n",
      "chatbot : (queja)Suerte es que le digo parcero\n",
      "chatbot : (reclamo)Nada que hacer socio\n",
      "chatbot : (despedida)Chaolin pinguin, vaya por la sombrita\n",
      "chatbot : (despedida)Chaolin pinguin, vaya por la sombrita\n",
      "chatbot : chao rey, la buena\n"
     ]
    }
   ],
   "source": [
    "# Chatbot\n",
    "print(\"chatbot: Esribe salir para terminar la conversación\")\n",
    "\n",
    "while True:\n",
    "    user_input = input(\"Tu: \")\n",
    "    if user_input.lower()=='salir':\n",
    "       print(\"chatbot : chao rey, la buena\")\n",
    "       break\n",
    "    categoria = classifi(user_input)\n",
    "    respuesta = respuestas.get(categoria,\"No manito expliquese mejor\")\n",
    "    print(f\"chatbot : ({categoria}){respuesta}\")"
   ]
  }
 ],
 "metadata": {
  "kernelspec": {
   "display_name": "env (3.13.5)",
   "language": "python",
   "name": "python3"
  },
  "language_info": {
   "codemirror_mode": {
    "name": "ipython",
    "version": 3
   },
   "file_extension": ".py",
   "mimetype": "text/x-python",
   "name": "python",
   "nbconvert_exporter": "python",
   "pygments_lexer": "ipython3",
   "version": "3.13.5"
  }
 },
 "nbformat": 4,
 "nbformat_minor": 5
}
