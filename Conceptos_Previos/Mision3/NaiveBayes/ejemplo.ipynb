{
 "cells": [
  {
   "cell_type": "markdown",
   "id": "ebcbf0ab",
   "metadata": {},
   "source": [
    "# PASO 1 Definir el conjunto de datos"
   ]
  },
  {
   "cell_type": "code",
   "execution_count": 4,
   "id": "31b08f15",
   "metadata": {},
   "outputs": [],
   "source": [
    "# Datos de entrenamiento\n",
    "data = [\n",
    "    (\"Hola\", \"saludo\"),\n",
    "    (\"Buenos días\", \"saludo\"),\n",
    "    (\"Buenas tardes\", \"saludo\"),\n",
    "    (\"¿Cómo estás?\", \"saludo\"),\n",
    "    (\"Quisiera hacer una queja\", \"queja\"),\n",
    "    (\"No estoy satisfecho con el servicio\", \"queja\"),\n",
    "    (\"El producto llegó dañado\", \"queja\"),\n",
    "    (\"Necesito reclamar por un error\", \"reclamo\"),\n",
    "    (\"Quiero hacer un reclamo\", \"reclamo\"),\n",
    "    (\"Esto es inaceptable, quiero una solución\", \"reclamo\"),\n",
    "    (\"Me gustaría pedir información\", \"petición\"),\n",
    "    (\"Necesito saber más detalles sobre el producto\", \"petición\"),\n",
    "    (\"Por favor, envíenme más información\", \"petición\"),\n",
    "    (\"Adiós\", \"despedida\"),\n",
    "    (\"Hasta luego\", \"despedida\"),\n",
    "    (\"Nos vemos\", \"despedida\"),\n",
    "    (\"Chao\", \"despedida\")\n",
    "]\n",
    "\n",
    "# Frases y etiquetas\n",
    "phrases,labels=zip(*data)"
   ]
  },
  {
   "cell_type": "markdown",
   "id": "f2b1b217",
   "metadata": {},
   "source": [
    "# Paso 2 crear un diccionada de palabras y calcular frecuencias"
   ]
  },
  {
   "cell_type": "code",
   "execution_count": 7,
   "id": "26a2dc96",
   "metadata": {},
   "outputs": [
    {
     "name": "stdout",
     "output_type": "stream",
     "text": [
      "total_wordsdefaultdict(<class 'int'>, {'saludo': 7, 'queja': 14, 'reclamo': 15, 'petición': 16, 'despedida': 6}) tota_phrase 17\n"
     ]
    }
   ],
   "source": [
    "from collections import defaultdict\n",
    "# Crear un diccionario para contar palabras por categoria\n",
    "word_freq=defaultdict(lambda:defaultdict(int))\n",
    "category_freq=defaultdict(int)\n",
    "for phrase,label in data:\n",
    "    words=phrase.lower().split()\n",
    "    category_freq[label]+=1\n",
    "    for word in words:\n",
    "        word_freq[label][word]+=1\n",
    "#calcular la frecuencia totalde palabras en cada categoria\n",
    "total_words=defaultdict(int)\n",
    "for label in word_freq:\n",
    "    total_words[label]=sum(word_freq[label].values())\n",
    "# Numero total de frases\n",
    "total_phrase = len(data)\n",
    "print(f\"total_words{total_words} tota_phrase {total_phrase}\")"
   ]
  },
  {
   "cell_type": "markdown",
   "id": "31ae423a",
   "metadata": {},
   "source": [
    "# Paso 3 implementar el clasificador Naive Bayes"
   ]
  },
  {
   "cell_type": "code",
   "execution_count": null,
   "id": "9e5e6add",
   "metadata": {},
   "outputs": [],
   "source": [
    "import math\n",
    "def classifi(phrase):\n",
    "    words= phrase.lower().split()\n",
    "    category_scores={}\n",
    "    for category in category_freq:\n",
    "        category_scores[category]=math.log(category_freq[category]/total_phrase)"
   ]
  }
 ],
 "metadata": {
  "kernelspec": {
   "display_name": "env (3.13.5)",
   "language": "python",
   "name": "python3"
  },
  "language_info": {
   "codemirror_mode": {
    "name": "ipython",
    "version": 3
   },
   "file_extension": ".py",
   "mimetype": "text/x-python",
   "name": "python",
   "nbconvert_exporter": "python",
   "pygments_lexer": "ipython3",
   "version": "3.13.5"
  }
 },
 "nbformat": 4,
 "nbformat_minor": 5
}
