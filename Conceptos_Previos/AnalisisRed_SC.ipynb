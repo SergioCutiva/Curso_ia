{
 "cells": [
  {
   "cell_type": "code",
   "execution_count": 25,
   "id": "d4ca22d2",
   "metadata": {},
   "outputs": [
    {
     "name": "stdout",
     "output_type": "stream",
     "text": [
      "===Ventas===\n",
      "   ID_Tienda    Producto  Cantidad_Vendida  Precio_Unitario Fecha_Venta\n",
      "0          1  Producto A                20              100  2023-01-05\n",
      "1          1  Producto B                15              200  2023-01-06\n",
      "2          2  Producto A                30              100  2023-01-07\n",
      "3          2  Producto C                25              300  2023-01-08\n",
      "4          3  Producto A                10              100  2023-01-09 \n",
      "\n",
      "===Invermtario===\n",
      "   ID_Tienda    Producto  Stock_Disponible Fecha_Actualización\n",
      "0          1  Producto A                50          2023-01-05\n",
      "1          1  Producto B                40          2023-01-06\n",
      "2          2  Producto A                60          2023-01-07\n",
      "3          2  Producto C                45          2023-01-08\n",
      "4          3  Producto A                30          2023-01-09 \n",
      "\n",
      "===Satisfacción===\n",
      "   ID_Tienda  Satisfacción_Promedio Fecha_Evaluación\n",
      "0          1                     85       2023-01-15\n",
      "1          2                     90       2023-01-15\n",
      "2          3                     70       2023-01-15\n",
      "3          4                     65       2023-01-15\n",
      "4          5                     55       2023-01-15 \n",
      "\n",
      "   ID_Tienda    Producto  Cantidad_Vendida  Precio_Unitario Fecha_Venta  \\\n",
      "0          1  Producto A                20              100  2023-01-05   \n",
      "1          1  Producto B                15              200  2023-01-06   \n",
      "2          2  Producto A                30              100  2023-01-07   \n",
      "3          2  Producto C                25              300  2023-01-08   \n",
      "4          3  Producto A                10              100  2023-01-09   \n",
      "5          3  Producto B                40              200  2023-01-10   \n",
      "6          4  Producto C                35              300  2023-01-11   \n",
      "7          4  Producto A                25              100  2023-01-12   \n",
      "8          5  Producto B                20              200  2023-01-13   \n",
      "9          5  Producto C                30              300  2023-01-14   \n",
      "\n",
      "   Ventas_Totales  \n",
      "0            2000  \n",
      "1            3000  \n",
      "2            3000  \n",
      "3            7500  \n",
      "4            1000  \n",
      "5            8000  \n",
      "6           10500  \n",
      "7            2500  \n",
      "8            4000  \n",
      "9            9000  \n",
      "   ID_Tienda  Ventas_Totales\n",
      "0          1            5000\n",
      "1          2           10500\n",
      "2          3            9000\n",
      "3          4           13000\n",
      "4          5           13000\n",
      "============== Ventas de Inventarios==========================\n",
      "   ID_Tienda    Producto  Cantidad_Vendida  Precio_Unitario Fecha_Venta  \\\n",
      "0          1  Producto A                20              100  2023-01-05   \n",
      "1          1  Producto B                15              200  2023-01-06   \n",
      "2          2  Producto A                30              100  2023-01-07   \n",
      "3          2  Producto C                25              300  2023-01-08   \n",
      "4          3  Producto A                10              100  2023-01-09   \n",
      "5          3  Producto B                40              200  2023-01-10   \n",
      "6          4  Producto C                35              300  2023-01-11   \n",
      "7          4  Producto A                25              100  2023-01-12   \n",
      "8          5  Producto B                20              200  2023-01-13   \n",
      "9          5  Producto C                30              300  2023-01-14   \n",
      "\n",
      "   Ventas_Totales  Stock_Disponible Fecha_Actualización  \n",
      "0            2000                50          2023-01-05  \n",
      "1            3000                40          2023-01-06  \n",
      "2            3000                60          2023-01-07  \n",
      "3            7500                45          2023-01-08  \n",
      "4            1000                30          2023-01-09  \n",
      "5            8000                80          2023-01-10  \n",
      "6           10500                70          2023-01-11  \n",
      "7            2500                50          2023-01-12  \n",
      "8            4000                40          2023-01-13  \n",
      "9            9000                60          2023-01-14  \n",
      "   ID_Tienda    Producto  Cantidad_Vendida  Precio_Unitario Fecha_Venta  \\\n",
      "0          1  Producto A                20              100  2023-01-05   \n",
      "1          1  Producto B                15              200  2023-01-06   \n",
      "2          2  Producto A                30              100  2023-01-07   \n",
      "3          2  Producto C                25              300  2023-01-08   \n",
      "4          3  Producto A                10              100  2023-01-09   \n",
      "5          3  Producto B                40              200  2023-01-10   \n",
      "6          4  Producto C                35              300  2023-01-11   \n",
      "7          4  Producto A                25              100  2023-01-12   \n",
      "8          5  Producto B                20              200  2023-01-13   \n",
      "9          5  Producto C                30              300  2023-01-14   \n",
      "\n",
      "   Ventas_Totales  Stock_Disponible Fecha_Actualización  Rotacion_Inventario  \n",
      "0            2000                50          2023-01-05             0.400000  \n",
      "1            3000                40          2023-01-06             0.375000  \n",
      "2            3000                60          2023-01-07             0.500000  \n",
      "3            7500                45          2023-01-08             0.555556  \n",
      "4            1000                30          2023-01-09             0.333333  \n",
      "5            8000                80          2023-01-10             0.500000  \n",
      "6           10500                70          2023-01-11             0.500000  \n",
      "7            2500                50          2023-01-12             0.500000  \n",
      "8            4000                40          2023-01-13             0.500000  \n",
      "9            9000                60          2023-01-14             0.500000  \n"
     ]
    }
   ],
   "source": [
    "# ==================================\n",
    "# 1️⃣ Importar La Libreria de pandas\n",
    "# ==================================\n",
    "import pandas as pd\n",
    "# ==================================\n",
    "# 2️⃣ Cargar los archivos CSV\n",
    "# ==================================\n",
    "# Usamos pd.read_csv\n",
    "ventas_df =pd.read_csv(\"ventas.csv\")\n",
    "inventarios_df=pd.read_csv(\"inventarios.csv\")\n",
    "satisfaccion_df=pd.read_csv(\"satisfaccion.csv\")\n",
    "# ==========================================\n",
    "# 3️⃣ Mostrar las primeras filas\n",
    "# ==========================================\n",
    "print(\"===Ventas===\")\n",
    "print(ventas_df.head(),\"\\n\")\n",
    "print(\"===Invermtario===\")\n",
    "print(inventarios_df.head(),\"\\n\")\n",
    "print(\"===Satisfacción===\")\n",
    "print(satisfaccion_df.head(),\"\\n\")\n",
    "# ==========================================\n",
    "# 4️⃣Limpiar Datos(elimina filas con valores nulos)\n",
    "# ==========================================\n",
    "ventas_df =ventas_df.dropna()\n",
    "inventarios_df=inventarios_df.dropna()\n",
    "satisfaccion_df=satisfaccion_df.dropna()\n",
    "# =============================================\n",
    "# análisis de ventas totales\n",
    "# =============================================\n",
    "ventas_df[\"Ventas_Totales\"]=ventas_df[\"Cantidad_Vendida\"]*ventas_df[\"Precio_Unitario\"]\n",
    "print(ventas_df)\n",
    "ventas_totale=ventas_df.groupby(\"ID_Tienda\")[\"Ventas_Totales\"].sum().reset_index()\n",
    "print(ventas_totale)\n",
    "\n",
    "# =============================================\n",
    "# Rotación de Inventario\n",
    "# =============================================\n",
    "ventas_inventarios=pd.merge(ventas_df,inventarios_df,on=[\"ID_Tienda\",\"Producto\"],how=\"inner\")\n",
    "# ===========================\n",
    "# merge conbina las filas de ambos DF\n",
    "# on=[\"ID_Tienda\",\"Producto\"] # clave de unión es obligatoria que exista en ambos DF\n",
    "# how=\"inner\" solo conserva las filas que tiene coincidencias en ambos DF(intersección)\n",
    "# ===================\n",
    "print(\"============== Ventas de Inventarios==========================\")\n",
    "print(ventas_inventarios)\n",
    "ventas_inventarios[\"Rotacion_Inventario\"]=ventas_inventarios[\"Cantidad_Vendida\"]/ventas_inventarios[\"Stock_Disponible\"]\n",
    "print(ventas_inventarios)"
   ]
  },
  {
   "cell_type": "code",
   "execution_count": 26,
   "id": "8b5e80fa",
   "metadata": {},
   "outputs": [
    {
     "name": "stdout",
     "output_type": "stream",
     "text": [
      "===ventas===\n",
      "   ID_Tienda    Producto  Cantidad_Vendida  Precio_Unitario Fecha_Venta  \\\n",
      "0          1  Producto A                20              100  2023-01-05   \n",
      "1          1  Producto B                15              200  2023-01-06   \n",
      "2          2  Producto A                30              100  2023-01-07   \n",
      "3          2  Producto C                25              300  2023-01-08   \n",
      "4          3  Producto A                10              100  2023-01-09   \n",
      "\n",
      "   Ventas_Totales  \n",
      "0            2000  \n",
      "1            3000  \n",
      "2            3000  \n",
      "3            7500  \n",
      "4            1000   \n",
      "\n"
     ]
    }
   ],
   "source": [
    "print(\"===ventas===\")\n",
    "print(ventas_df.head(), \"\\n\")"
   ]
  },
  {
   "cell_type": "code",
   "execution_count": 27,
   "id": "63465f21",
   "metadata": {},
   "outputs": [
    {
     "name": "stdout",
     "output_type": "stream",
     "text": [
      "===Inventarios===\n",
      "   ID_Tienda    Producto  Stock_Disponible Fecha_Actualización\n",
      "0          1  Producto A                50          2023-01-05\n",
      "1          1  Producto B                40          2023-01-06\n",
      "2          2  Producto A                60          2023-01-07\n",
      "3          2  Producto C                45          2023-01-08\n",
      "4          3  Producto A                30          2023-01-09 \n",
      "\n"
     ]
    }
   ],
   "source": [
    "print(\"===Inventarios===\")\n",
    "print(inventarios_df.head(), \"\\n\")"
   ]
  },
  {
   "cell_type": "code",
   "execution_count": 28,
   "id": "461bf453",
   "metadata": {},
   "outputs": [
    {
     "name": "stdout",
     "output_type": "stream",
     "text": [
      "===satisfaccion===\n",
      "   ID_Tienda  Satisfacción_Promedio Fecha_Evaluación\n",
      "0          1                     85       2023-01-15\n",
      "1          2                     90       2023-01-15\n",
      "2          3                     70       2023-01-15\n",
      "3          4                     65       2023-01-15\n",
      "4          5                     55       2023-01-15 \n",
      "\n"
     ]
    }
   ],
   "source": [
    "print(\"===satisfaccion===\")\n",
    "print(satisfaccion_df.head(), \"\\n\")"
   ]
  },
  {
   "cell_type": "code",
   "execution_count": 29,
   "id": "d29ad141",
   "metadata": {},
   "outputs": [
    {
     "name": "stdout",
     "output_type": "stream",
     "text": [
      "===Ventas Limpias===\n",
      "   ID_Tienda    Producto  Cantidad_Vendida  Precio_Unitario Fecha_Venta  \\\n",
      "0          1  Producto A                20              100  2023-01-05   \n",
      "1          1  Producto B                15              200  2023-01-06   \n",
      "2          2  Producto A                30              100  2023-01-07   \n",
      "3          2  Producto C                25              300  2023-01-08   \n",
      "4          3  Producto A                10              100  2023-01-09   \n",
      "\n",
      "   Ventas_Totales  \n",
      "0            2000  \n",
      "1            3000  \n",
      "2            3000  \n",
      "3            7500  \n",
      "4            1000   \n",
      "\n"
     ]
    }
   ],
   "source": [
    "print(\"===Ventas Limpias===\")\n",
    "ventas_df.dropna(inplace=True)\n",
    "print(ventas_df.head(), \"\\n\")  \n"
   ]
  },
  {
   "cell_type": "code",
   "execution_count": 30,
   "id": "e3163ddc",
   "metadata": {},
   "outputs": [
    {
     "name": "stdout",
     "output_type": "stream",
     "text": [
      "===Inventarios Limpios===\n",
      "   ID_Tienda    Producto  Stock_Disponible Fecha_Actualización\n",
      "0          1  Producto A                50          2023-01-05\n",
      "1          1  Producto B                40          2023-01-06\n",
      "2          2  Producto A                60          2023-01-07\n",
      "3          2  Producto C                45          2023-01-08\n",
      "4          3  Producto A                30          2023-01-09 \n",
      "\n"
     ]
    }
   ],
   "source": [
    "print(\"===Inventarios Limpios===\")\n",
    "inventarios_df.dropna(inplace=True)\n",
    "print(inventarios_df.head(), \"\\n\")"
   ]
  },
  {
   "cell_type": "code",
   "execution_count": 31,
   "id": "87bc8fb7",
   "metadata": {},
   "outputs": [
    {
     "name": "stdout",
     "output_type": "stream",
     "text": [
      "===satisfaccion Limpias===\n",
      "   ID_Tienda  Satisfacción_Promedio Fecha_Evaluación\n",
      "0          1                     85       2023-01-15\n",
      "1          2                     90       2023-01-15\n",
      "2          3                     70       2023-01-15\n",
      "3          4                     65       2023-01-15\n",
      "4          5                     55       2023-01-15 \n",
      "\n"
     ]
    }
   ],
   "source": [
    "\n",
    "print(\"===satisfaccion Limpias===\")\n",
    "satisfaccion_df.dropna(inplace=True)\n",
    "print(satisfaccion_df.head(), \"\\n\")"
   ]
  },
  {
   "cell_type": "code",
   "execution_count": 32,
   "id": "d223dc57",
   "metadata": {},
   "outputs": [
    {
     "name": "stdout",
     "output_type": "stream",
     "text": [
      "===Ventas con Totales===\n",
      "   ID_Tienda    Producto  Cantidad_Vendida  Precio_Unitario Fecha_Venta  \\\n",
      "0          1  Producto A                20              100  2023-01-05   \n",
      "1          1  Producto B                15              200  2023-01-06   \n",
      "2          2  Producto A                30              100  2023-01-07   \n",
      "3          2  Producto C                25              300  2023-01-08   \n",
      "4          3  Producto A                10              100  2023-01-09   \n",
      "\n",
      "   Ventas_Totales  \n",
      "0            2000  \n",
      "1            3000  \n",
      "2            3000  \n",
      "3            7500  \n",
      "4            1000   \n",
      "\n"
     ]
    }
   ],
   "source": [
    "# Ventas totales\n",
    "ventas_df['Ventas_Totales'] = ventas_df['Cantidad_Vendida'] * ventas_df['Precio_Unitario']\n",
    "print(\"===Ventas con Totales===\")\n",
    "print(ventas_df.head(), \"\\n\")"
   ]
  },
  {
   "cell_type": "code",
   "execution_count": 33,
   "id": "ff7a673a",
   "metadata": {},
   "outputs": [
    {
     "name": "stdout",
     "output_type": "stream",
     "text": [
      "===Ventas Totales por Tienda===\n",
      "   ID_Tienda  Ventas_Totales\n",
      "0          1            5000\n",
      "1          2           10500\n",
      "2          3            9000\n",
      "3          4           13000\n",
      "4          5           13000 \n",
      "\n"
     ]
    }
   ],
   "source": [
    "ventas_Totales = ventas_df.groupby('ID_Tienda')['Ventas_Totales'].sum().reset_index()\n",
    "print(\"===Ventas Totales por Tienda===\")\n",
    "print(ventas_Totales, \"\\n\")\n"
   ]
  },
  {
   "cell_type": "code",
   "execution_count": 34,
   "id": "d52a99b9",
   "metadata": {},
   "outputs": [
    {
     "name": "stdout",
     "output_type": "stream",
     "text": [
      "===Ventas e Inventarios Combinados===\n",
      "   ID_Tienda    Producto  Cantidad_Vendida  Precio_Unitario Fecha_Venta  \\\n",
      "0          1  Producto A                20              100  2023-01-05   \n",
      "1          1  Producto B                15              200  2023-01-06   \n",
      "2          2  Producto A                30              100  2023-01-07   \n",
      "3          2  Producto C                25              300  2023-01-08   \n",
      "4          3  Producto A                10              100  2023-01-09   \n",
      "\n",
      "   Ventas_Totales  Stock_Disponible Fecha_Actualización  \n",
      "0            2000                50          2023-01-05  \n",
      "1            3000                40          2023-01-06  \n",
      "2            3000                60          2023-01-07  \n",
      "3            7500                45          2023-01-08  \n",
      "4            1000                30          2023-01-09   \n",
      "\n"
     ]
    }
   ],
   "source": [
    "# Rotación de inventario\n",
    "ventas_inventarios = pd.merge(ventas_df, inventarios_df, on=[\"ID_Tienda\", \"Producto\"], how='inner')\n",
    "print(\"===Ventas e Inventarios Combinados===\")\n",
    "print(ventas_inventarios.head(), \"\\n\")"
   ]
  },
  {
   "cell_type": "code",
   "execution_count": 35,
   "id": "c82282bf",
   "metadata": {},
   "outputs": [
    {
     "name": "stdout",
     "output_type": "stream",
     "text": [
      "===Ventas e Inventarios Combinados===\n",
      "   ID_Tienda    Producto  Cantidad_Vendida  Precio_Unitario Fecha_Venta  \\\n",
      "0          1  Producto A                20              100  2023-01-05   \n",
      "1          1  Producto B                15              200  2023-01-06   \n",
      "2          2  Producto A                30              100  2023-01-07   \n",
      "3          2  Producto C                25              300  2023-01-08   \n",
      "4          3  Producto A                10              100  2023-01-09   \n",
      "\n",
      "   Ventas_Totales  Stock_Disponible Fecha_Actualización  Rotacion_Inventario  \n",
      "0            2000                50          2023-01-05             0.400000  \n",
      "1            3000                40          2023-01-06             0.375000  \n",
      "2            3000                60          2023-01-07             0.500000  \n",
      "3            7500                45          2023-01-08             0.555556  \n",
      "4            1000                30          2023-01-09             0.333333   \n",
      "\n"
     ]
    }
   ],
   "source": [
    "# Ventas de inventarios\n",
    "print(\"===Ventas e Inventarios Combinados===\")\n",
    "ventas_inventarios[\"Rotacion_Inventario\"]= ventas_inventarios['Cantidad_Vendida'] / ventas_inventarios['Stock_Disponible']\n",
    "print(ventas_inventarios.head(), \"\\n\")"
   ]
  },
  {
   "cell_type": "code",
   "execution_count": 46,
   "id": "80304a6e",
   "metadata": {},
   "outputs": [
    {
     "name": "stdout",
     "output_type": "stream",
     "text": [
      "===Inventarios Críticos===\n",
      "Empty DataFrame\n",
      "Columns: [ID_Tienda, Producto, Cantidad_Vendida, Precio_Unitario, Fecha_Venta, Ventas_Totales, Stock_Disponible, Fecha_Actualización, Rotacion_Inventario]\n",
      "Index: [] \n",
      "\n",
      "No hay tiendas con inventario crítico (menor al 10% en ventas respecto al inventario disponible).\n"
     ]
    },
    {
     "data": {
      "text/html": [
       "<div>\n",
       "<style scoped>\n",
       "    .dataframe tbody tr th:only-of-type {\n",
       "        vertical-align: middle;\n",
       "    }\n",
       "\n",
       "    .dataframe tbody tr th {\n",
       "        vertical-align: top;\n",
       "    }\n",
       "\n",
       "    .dataframe thead th {\n",
       "        text-align: right;\n",
       "    }\n",
       "</style>\n",
       "<table border=\"1\" class=\"dataframe\">\n",
       "  <thead>\n",
       "    <tr style=\"text-align: right;\">\n",
       "      <th></th>\n",
       "      <th>ID_Tienda</th>\n",
       "      <th>Producto</th>\n",
       "      <th>Rotacion_Inventario</th>\n",
       "    </tr>\n",
       "  </thead>\n",
       "  <tbody>\n",
       "    <tr>\n",
       "      <th>0</th>\n",
       "      <td>1</td>\n",
       "      <td>Producto A</td>\n",
       "      <td>0.400000</td>\n",
       "    </tr>\n",
       "    <tr>\n",
       "      <th>1</th>\n",
       "      <td>1</td>\n",
       "      <td>Producto B</td>\n",
       "      <td>0.375000</td>\n",
       "    </tr>\n",
       "    <tr>\n",
       "      <th>2</th>\n",
       "      <td>2</td>\n",
       "      <td>Producto A</td>\n",
       "      <td>0.500000</td>\n",
       "    </tr>\n",
       "    <tr>\n",
       "      <th>3</th>\n",
       "      <td>2</td>\n",
       "      <td>Producto C</td>\n",
       "      <td>0.555556</td>\n",
       "    </tr>\n",
       "    <tr>\n",
       "      <th>4</th>\n",
       "      <td>3</td>\n",
       "      <td>Producto A</td>\n",
       "      <td>0.333333</td>\n",
       "    </tr>\n",
       "    <tr>\n",
       "      <th>5</th>\n",
       "      <td>3</td>\n",
       "      <td>Producto B</td>\n",
       "      <td>0.500000</td>\n",
       "    </tr>\n",
       "    <tr>\n",
       "      <th>6</th>\n",
       "      <td>4</td>\n",
       "      <td>Producto C</td>\n",
       "      <td>0.500000</td>\n",
       "    </tr>\n",
       "    <tr>\n",
       "      <th>7</th>\n",
       "      <td>4</td>\n",
       "      <td>Producto A</td>\n",
       "      <td>0.500000</td>\n",
       "    </tr>\n",
       "    <tr>\n",
       "      <th>8</th>\n",
       "      <td>5</td>\n",
       "      <td>Producto B</td>\n",
       "      <td>0.500000</td>\n",
       "    </tr>\n",
       "    <tr>\n",
       "      <th>9</th>\n",
       "      <td>5</td>\n",
       "      <td>Producto C</td>\n",
       "      <td>0.500000</td>\n",
       "    </tr>\n",
       "  </tbody>\n",
       "</table>\n",
       "</div>"
      ],
      "text/plain": [
       "   ID_Tienda    Producto  Rotacion_Inventario\n",
       "0          1  Producto A             0.400000\n",
       "1          1  Producto B             0.375000\n",
       "2          2  Producto A             0.500000\n",
       "3          2  Producto C             0.555556\n",
       "4          3  Producto A             0.333333\n",
       "5          3  Producto B             0.500000\n",
       "6          4  Producto C             0.500000\n",
       "7          4  Producto A             0.500000\n",
       "8          5  Producto B             0.500000\n",
       "9          5  Producto C             0.500000"
      ]
     },
     "execution_count": 46,
     "metadata": {},
     "output_type": "execute_result"
    }
   ],
   "source": [
    "# Filtrar las tiendas con inventarios críticos (menos del 10% en ventas respecto al inventario disponible).\n",
    "inventarios_criticos = ventas_inventarios[ventas_inventarios['Rotacion_Inventario'] < 0.1]\n",
    "print(\"===Inventarios Críticos===\")\n",
    "print(inventarios_criticos.head(), \"\\n\")\n",
    "if inventarios_criticos.empty:\n",
    "    print(\"No hay tiendas con inventario crítico (menor al 10% en ventas respecto al inventario disponible).\")\n",
    "else:\n",
    "    print(\"===Inventarios Críticos===\")\n",
    "    display(inventarios_criticos)  # En Jupyter, display() muestra la tabla con formato\n",
    "ventas_inventarios[['ID_Tienda', 'Producto', 'Rotacion_Inventario']]"
   ]
  },
  {
   "cell_type": "code",
   "execution_count": 52,
   "id": "5c915f71",
   "metadata": {},
   "outputs": [
    {
     "ename": "KeyError",
     "evalue": "'Satisfaccion'",
     "output_type": "error",
     "traceback": [
      "\u001b[31m---------------------------------------------------------------------------\u001b[39m",
      "\u001b[31mKeyError\u001b[39m                                  Traceback (most recent call last)",
      "\u001b[36mFile \u001b[39m\u001b[32mc:\\Users\\CUTIVA\\Desktop\\Curso ia\\env\\Lib\\site-packages\\pandas\\core\\indexes\\base.py:3812\u001b[39m, in \u001b[36mIndex.get_loc\u001b[39m\u001b[34m(self, key)\u001b[39m\n\u001b[32m   3811\u001b[39m \u001b[38;5;28;01mtry\u001b[39;00m:\n\u001b[32m-> \u001b[39m\u001b[32m3812\u001b[39m     \u001b[38;5;28;01mreturn\u001b[39;00m \u001b[38;5;28;43mself\u001b[39;49m\u001b[43m.\u001b[49m\u001b[43m_engine\u001b[49m\u001b[43m.\u001b[49m\u001b[43mget_loc\u001b[49m\u001b[43m(\u001b[49m\u001b[43mcasted_key\u001b[49m\u001b[43m)\u001b[49m\n\u001b[32m   3813\u001b[39m \u001b[38;5;28;01mexcept\u001b[39;00m \u001b[38;5;167;01mKeyError\u001b[39;00m \u001b[38;5;28;01mas\u001b[39;00m err:\n",
      "\u001b[36mFile \u001b[39m\u001b[32mpandas/_libs/index.pyx:167\u001b[39m, in \u001b[36mpandas._libs.index.IndexEngine.get_loc\u001b[39m\u001b[34m()\u001b[39m\n",
      "\u001b[36mFile \u001b[39m\u001b[32mpandas/_libs/index.pyx:196\u001b[39m, in \u001b[36mpandas._libs.index.IndexEngine.get_loc\u001b[39m\u001b[34m()\u001b[39m\n",
      "\u001b[36mFile \u001b[39m\u001b[32mpandas/_libs/hashtable_class_helper.pxi:7088\u001b[39m, in \u001b[36mpandas._libs.hashtable.PyObjectHashTable.get_item\u001b[39m\u001b[34m()\u001b[39m\n",
      "\u001b[36mFile \u001b[39m\u001b[32mpandas/_libs/hashtable_class_helper.pxi:7096\u001b[39m, in \u001b[36mpandas._libs.hashtable.PyObjectHashTable.get_item\u001b[39m\u001b[34m()\u001b[39m\n",
      "\u001b[31mKeyError\u001b[39m: 'Satisfaccion'",
      "\nThe above exception was the direct cause of the following exception:\n",
      "\u001b[31mKeyError\u001b[39m                                  Traceback (most recent call last)",
      "\u001b[36mCell\u001b[39m\u001b[36m \u001b[39m\u001b[32mIn[52]\u001b[39m\u001b[32m, line 2\u001b[39m\n\u001b[32m      1\u001b[39m \u001b[38;5;66;03m# Analizar la satisfacción del cliente y filtrar las tiendas con una satisfacción menor al 60%.\u001b[39;00m\n\u001b[32m----> \u001b[39m\u001b[32m2\u001b[39m satisfaccion_baja = satisfaccion_df[\u001b[43msatisfaccion_df\u001b[49m\u001b[43m[\u001b[49m\u001b[33;43m'\u001b[39;49m\u001b[33;43mSatisfaccion\u001b[39;49m\u001b[33;43m'\u001b[39;49m\u001b[43m]\u001b[49m < \u001b[32m60\u001b[39m]\n",
      "\u001b[36mFile \u001b[39m\u001b[32mc:\\Users\\CUTIVA\\Desktop\\Curso ia\\env\\Lib\\site-packages\\pandas\\core\\frame.py:4107\u001b[39m, in \u001b[36mDataFrame.__getitem__\u001b[39m\u001b[34m(self, key)\u001b[39m\n\u001b[32m   4105\u001b[39m \u001b[38;5;28;01mif\u001b[39;00m \u001b[38;5;28mself\u001b[39m.columns.nlevels > \u001b[32m1\u001b[39m:\n\u001b[32m   4106\u001b[39m     \u001b[38;5;28;01mreturn\u001b[39;00m \u001b[38;5;28mself\u001b[39m._getitem_multilevel(key)\n\u001b[32m-> \u001b[39m\u001b[32m4107\u001b[39m indexer = \u001b[38;5;28;43mself\u001b[39;49m\u001b[43m.\u001b[49m\u001b[43mcolumns\u001b[49m\u001b[43m.\u001b[49m\u001b[43mget_loc\u001b[49m\u001b[43m(\u001b[49m\u001b[43mkey\u001b[49m\u001b[43m)\u001b[49m\n\u001b[32m   4108\u001b[39m \u001b[38;5;28;01mif\u001b[39;00m is_integer(indexer):\n\u001b[32m   4109\u001b[39m     indexer = [indexer]\n",
      "\u001b[36mFile \u001b[39m\u001b[32mc:\\Users\\CUTIVA\\Desktop\\Curso ia\\env\\Lib\\site-packages\\pandas\\core\\indexes\\base.py:3819\u001b[39m, in \u001b[36mIndex.get_loc\u001b[39m\u001b[34m(self, key)\u001b[39m\n\u001b[32m   3814\u001b[39m     \u001b[38;5;28;01mif\u001b[39;00m \u001b[38;5;28misinstance\u001b[39m(casted_key, \u001b[38;5;28mslice\u001b[39m) \u001b[38;5;129;01mor\u001b[39;00m (\n\u001b[32m   3815\u001b[39m         \u001b[38;5;28misinstance\u001b[39m(casted_key, abc.Iterable)\n\u001b[32m   3816\u001b[39m         \u001b[38;5;129;01mand\u001b[39;00m \u001b[38;5;28many\u001b[39m(\u001b[38;5;28misinstance\u001b[39m(x, \u001b[38;5;28mslice\u001b[39m) \u001b[38;5;28;01mfor\u001b[39;00m x \u001b[38;5;129;01min\u001b[39;00m casted_key)\n\u001b[32m   3817\u001b[39m     ):\n\u001b[32m   3818\u001b[39m         \u001b[38;5;28;01mraise\u001b[39;00m InvalidIndexError(key)\n\u001b[32m-> \u001b[39m\u001b[32m3819\u001b[39m     \u001b[38;5;28;01mraise\u001b[39;00m \u001b[38;5;167;01mKeyError\u001b[39;00m(key) \u001b[38;5;28;01mfrom\u001b[39;00m\u001b[38;5;250m \u001b[39m\u001b[34;01merr\u001b[39;00m\n\u001b[32m   3820\u001b[39m \u001b[38;5;28;01mexcept\u001b[39;00m \u001b[38;5;167;01mTypeError\u001b[39;00m:\n\u001b[32m   3821\u001b[39m     \u001b[38;5;66;03m# If we have a listlike key, _check_indexing_error will raise\u001b[39;00m\n\u001b[32m   3822\u001b[39m     \u001b[38;5;66;03m#  InvalidIndexError. Otherwise we fall through and re-raise\u001b[39;00m\n\u001b[32m   3823\u001b[39m     \u001b[38;5;66;03m#  the TypeError.\u001b[39;00m\n\u001b[32m   3824\u001b[39m     \u001b[38;5;28mself\u001b[39m._check_indexing_error(key)\n",
      "\u001b[31mKeyError\u001b[39m: 'Satisfaccion'"
     ]
    }
   ],
   "source": [
    "# Analizar la satisfacción del cliente y filtrar las tiendas con una satisfacción menor al 60%.\n",
    "satisfaccion_baja = satisfaccion_df[satisfaccion_df['Satisfaccion'] < 60]"
   ]
  },
  {
   "cell_type": "code",
   "execution_count": null,
   "id": "176745be",
   "metadata": {},
   "outputs": [
    {
     "ename": "KeyError",
     "evalue": "'Satisfaccion'",
     "output_type": "error",
     "traceback": [
      "\u001b[31m---------------------------------------------------------------------------\u001b[39m",
      "\u001b[31mKeyError\u001b[39m                                  Traceback (most recent call last)",
      "\u001b[36mFile \u001b[39m\u001b[32mc:\\Users\\CUTIVA\\Desktop\\Curso ia\\env\\Lib\\site-packages\\pandas\\core\\indexes\\base.py:3812\u001b[39m, in \u001b[36mIndex.get_loc\u001b[39m\u001b[34m(self, key)\u001b[39m\n\u001b[32m   3811\u001b[39m \u001b[38;5;28;01mtry\u001b[39;00m:\n\u001b[32m-> \u001b[39m\u001b[32m3812\u001b[39m     \u001b[38;5;28;01mreturn\u001b[39;00m \u001b[38;5;28;43mself\u001b[39;49m\u001b[43m.\u001b[49m\u001b[43m_engine\u001b[49m\u001b[43m.\u001b[49m\u001b[43mget_loc\u001b[49m\u001b[43m(\u001b[49m\u001b[43mcasted_key\u001b[49m\u001b[43m)\u001b[49m\n\u001b[32m   3813\u001b[39m \u001b[38;5;28;01mexcept\u001b[39;00m \u001b[38;5;167;01mKeyError\u001b[39;00m \u001b[38;5;28;01mas\u001b[39;00m err:\n",
      "\u001b[36mFile \u001b[39m\u001b[32mpandas/_libs/index.pyx:167\u001b[39m, in \u001b[36mpandas._libs.index.IndexEngine.get_loc\u001b[39m\u001b[34m()\u001b[39m\n",
      "\u001b[36mFile \u001b[39m\u001b[32mpandas/_libs/index.pyx:196\u001b[39m, in \u001b[36mpandas._libs.index.IndexEngine.get_loc\u001b[39m\u001b[34m()\u001b[39m\n",
      "\u001b[36mFile \u001b[39m\u001b[32mpandas/_libs/hashtable_class_helper.pxi:7088\u001b[39m, in \u001b[36mpandas._libs.hashtable.PyObjectHashTable.get_item\u001b[39m\u001b[34m()\u001b[39m\n",
      "\u001b[36mFile \u001b[39m\u001b[32mpandas/_libs/hashtable_class_helper.pxi:7096\u001b[39m, in \u001b[36mpandas._libs.hashtable.PyObjectHashTable.get_item\u001b[39m\u001b[34m()\u001b[39m\n",
      "\u001b[31mKeyError\u001b[39m: 'Satisfaccion'",
      "\nThe above exception was the direct cause of the following exception:\n",
      "\u001b[31mKeyError\u001b[39m                                  Traceback (most recent call last)",
      "\u001b[36mCell\u001b[39m\u001b[36m \u001b[39m\u001b[32mIn[55]\u001b[39m\u001b[32m, line 3\u001b[39m\n\u001b[32m      1\u001b[39m \u001b[38;5;28;01mfrom\u001b[39;00m\u001b[38;5;250m \u001b[39m\u001b[34;01mIPython\u001b[39;00m\u001b[34;01m.\u001b[39;00m\u001b[34;01mdisplay\u001b[39;00m\u001b[38;5;250m \u001b[39m\u001b[38;5;28;01mimport\u001b[39;00m display\n\u001b[32m      2\u001b[39m \u001b[38;5;66;03m#satisfaccion_baja = satisfaccion_df[satisfaccion_df['Satisfaccion'] < 60]\u001b[39;00m\n\u001b[32m----> \u001b[39m\u001b[32m3\u001b[39m satisfaccion_df[\u001b[33m'\u001b[39m\u001b[33mSatisfaccion\u001b[39m\u001b[33m'\u001b[39m] = pd.to_numeric(\u001b[43msatisfaccion_df\u001b[49m\u001b[43m[\u001b[49m\u001b[33;43m'\u001b[39;49m\u001b[33;43mSatisfaccion\u001b[39;49m\u001b[33;43m'\u001b[39;49m\u001b[43m]\u001b[49m, errors=\u001b[33m'\u001b[39m\u001b[33mcoerce\u001b[39m\u001b[33m'\u001b[39m)\n\u001b[32m      4\u001b[39m satisfaccion_baja = satisfaccion_df[satisfaccion_df[\u001b[33m'\u001b[39m\u001b[33mSatisfaccion\u001b[39m\u001b[33m'\u001b[39m] < \u001b[32m60\u001b[39m]\n\u001b[32m      6\u001b[39m \u001b[38;5;28;01mif\u001b[39;00m satisfaccion_baja.empty:\n",
      "\u001b[36mFile \u001b[39m\u001b[32mc:\\Users\\CUTIVA\\Desktop\\Curso ia\\env\\Lib\\site-packages\\pandas\\core\\frame.py:4107\u001b[39m, in \u001b[36mDataFrame.__getitem__\u001b[39m\u001b[34m(self, key)\u001b[39m\n\u001b[32m   4105\u001b[39m \u001b[38;5;28;01mif\u001b[39;00m \u001b[38;5;28mself\u001b[39m.columns.nlevels > \u001b[32m1\u001b[39m:\n\u001b[32m   4106\u001b[39m     \u001b[38;5;28;01mreturn\u001b[39;00m \u001b[38;5;28mself\u001b[39m._getitem_multilevel(key)\n\u001b[32m-> \u001b[39m\u001b[32m4107\u001b[39m indexer = \u001b[38;5;28;43mself\u001b[39;49m\u001b[43m.\u001b[49m\u001b[43mcolumns\u001b[49m\u001b[43m.\u001b[49m\u001b[43mget_loc\u001b[49m\u001b[43m(\u001b[49m\u001b[43mkey\u001b[49m\u001b[43m)\u001b[49m\n\u001b[32m   4108\u001b[39m \u001b[38;5;28;01mif\u001b[39;00m is_integer(indexer):\n\u001b[32m   4109\u001b[39m     indexer = [indexer]\n",
      "\u001b[36mFile \u001b[39m\u001b[32mc:\\Users\\CUTIVA\\Desktop\\Curso ia\\env\\Lib\\site-packages\\pandas\\core\\indexes\\base.py:3819\u001b[39m, in \u001b[36mIndex.get_loc\u001b[39m\u001b[34m(self, key)\u001b[39m\n\u001b[32m   3814\u001b[39m     \u001b[38;5;28;01mif\u001b[39;00m \u001b[38;5;28misinstance\u001b[39m(casted_key, \u001b[38;5;28mslice\u001b[39m) \u001b[38;5;129;01mor\u001b[39;00m (\n\u001b[32m   3815\u001b[39m         \u001b[38;5;28misinstance\u001b[39m(casted_key, abc.Iterable)\n\u001b[32m   3816\u001b[39m         \u001b[38;5;129;01mand\u001b[39;00m \u001b[38;5;28many\u001b[39m(\u001b[38;5;28misinstance\u001b[39m(x, \u001b[38;5;28mslice\u001b[39m) \u001b[38;5;28;01mfor\u001b[39;00m x \u001b[38;5;129;01min\u001b[39;00m casted_key)\n\u001b[32m   3817\u001b[39m     ):\n\u001b[32m   3818\u001b[39m         \u001b[38;5;28;01mraise\u001b[39;00m InvalidIndexError(key)\n\u001b[32m-> \u001b[39m\u001b[32m3819\u001b[39m     \u001b[38;5;28;01mraise\u001b[39;00m \u001b[38;5;167;01mKeyError\u001b[39;00m(key) \u001b[38;5;28;01mfrom\u001b[39;00m\u001b[38;5;250m \u001b[39m\u001b[34;01merr\u001b[39;00m\n\u001b[32m   3820\u001b[39m \u001b[38;5;28;01mexcept\u001b[39;00m \u001b[38;5;167;01mTypeError\u001b[39;00m:\n\u001b[32m   3821\u001b[39m     \u001b[38;5;66;03m# If we have a listlike key, _check_indexing_error will raise\u001b[39;00m\n\u001b[32m   3822\u001b[39m     \u001b[38;5;66;03m#  InvalidIndexError. Otherwise we fall through and re-raise\u001b[39;00m\n\u001b[32m   3823\u001b[39m     \u001b[38;5;66;03m#  the TypeError.\u001b[39;00m\n\u001b[32m   3824\u001b[39m     \u001b[38;5;28mself\u001b[39m._check_indexing_error(key)\n",
      "\u001b[31mKeyError\u001b[39m: 'Satisfaccion'"
     ]
    }
   ],
   "source": [
    "from IPython.display import display\n",
    "satisfaccion_baja = satisfaccion_df[satisfaccion_df['Satisfaccion'] < 60]\n",
    "\n",
    "if satisfaccion_baja.empty:\n",
    "    print(\"No hay tiendas con satisfacción baja (menor al 60%).\")\n",
    "else:\n",
    "    print(\"===Satisfacción Baja===\")\n",
    "    display(satisfaccion_baja)"
   ]
  }
 ],
 "metadata": {
  "kernelspec": {
   "display_name": "env (3.13.5)",
   "language": "python",
   "name": "python3"
  },
  "language_info": {
   "codemirror_mode": {
    "name": "ipython",
    "version": 3
   },
   "file_extension": ".py",
   "mimetype": "text/x-python",
   "name": "python",
   "nbconvert_exporter": "python",
   "pygments_lexer": "ipython3",
   "version": "3.13.5"
  }
 },
 "nbformat": 4,
 "nbformat_minor": 5
}
